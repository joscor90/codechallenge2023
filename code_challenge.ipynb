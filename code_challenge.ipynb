{
 "cells": [
  {
   "cell_type": "markdown",
   "metadata": {},
   "source": [
    "## Data load"
   ]
  },
  {
   "cell_type": "code",
   "execution_count": 1,
   "metadata": {},
   "outputs": [],
   "source": [
    "# import pandas\n",
    "import pandas as pd"
   ]
  },
  {
   "cell_type": "code",
   "execution_count": 4,
   "metadata": {},
   "outputs": [],
   "source": [
    "# load dataset\n",
    "df = pd.read_csv('./data/student_data.csv')"
   ]
  },
  {
   "cell_type": "markdown",
   "metadata": {},
   "source": [
    "## DF exploration"
   ]
  },
  {
   "cell_type": "code",
   "execution_count": 7,
   "metadata": {},
   "outputs": [
    {
     "data": {
      "text/plain": [
       "(200015, 10)"
      ]
     },
     "execution_count": 7,
     "metadata": {},
     "output_type": "execute_result"
    }
   ],
   "source": [
    "# shape\n",
    "df.shape"
   ]
  },
  {
   "cell_type": "code",
   "execution_count": 9,
   "metadata": {},
   "outputs": [
    {
     "data": {
      "text/html": [
       "<div>\n",
       "<style scoped>\n",
       "    .dataframe tbody tr th:only-of-type {\n",
       "        vertical-align: middle;\n",
       "    }\n",
       "\n",
       "    .dataframe tbody tr th {\n",
       "        vertical-align: top;\n",
       "    }\n",
       "\n",
       "    .dataframe thead th {\n",
       "        text-align: right;\n",
       "    }\n",
       "</style>\n",
       "<table border=\"1\" class=\"dataframe\">\n",
       "  <thead>\n",
       "    <tr style=\"text-align: right;\">\n",
       "      <th></th>\n",
       "      <th>Student ID</th>\n",
       "      <th>Year of Admission</th>\n",
       "      <th>Expected Year of Graduation</th>\n",
       "      <th>Current Semester</th>\n",
       "      <th>Fees</th>\n",
       "      <th>Discount on Fees</th>\n",
       "    </tr>\n",
       "  </thead>\n",
       "  <tbody>\n",
       "    <tr>\n",
       "      <th>count</th>\n",
       "      <td>200015.000000</td>\n",
       "      <td>200015.000000</td>\n",
       "      <td>200015.000000</td>\n",
       "      <td>200015.000000</td>\n",
       "      <td>200015.000000</td>\n",
       "      <td>200015.000000</td>\n",
       "    </tr>\n",
       "    <tr>\n",
       "      <th>mean</th>\n",
       "      <td>549373.714881</td>\n",
       "      <td>2018.997670</td>\n",
       "      <td>2019.995160</td>\n",
       "      <td>2.499003</td>\n",
       "      <td>125092.093953</td>\n",
       "      <td>12484.212314</td>\n",
       "    </tr>\n",
       "    <tr>\n",
       "      <th>std</th>\n",
       "      <td>259362.415174</td>\n",
       "      <td>2.002377</td>\n",
       "      <td>1.997768</td>\n",
       "      <td>1.117806</td>\n",
       "      <td>43288.390595</td>\n",
       "      <td>8788.315935</td>\n",
       "    </tr>\n",
       "    <tr>\n",
       "      <th>min</th>\n",
       "      <td>100001.000000</td>\n",
       "      <td>2016.000000</td>\n",
       "      <td>2017.000000</td>\n",
       "      <td>1.000000</td>\n",
       "      <td>50000.000000</td>\n",
       "      <td>0.000000</td>\n",
       "    </tr>\n",
       "    <tr>\n",
       "      <th>25%</th>\n",
       "      <td>325315.000000</td>\n",
       "      <td>2017.000000</td>\n",
       "      <td>2018.000000</td>\n",
       "      <td>1.000000</td>\n",
       "      <td>87639.000000</td>\n",
       "      <td>5383.000000</td>\n",
       "    </tr>\n",
       "    <tr>\n",
       "      <th>50%</th>\n",
       "      <td>548863.000000</td>\n",
       "      <td>2019.000000</td>\n",
       "      <td>2020.000000</td>\n",
       "      <td>2.000000</td>\n",
       "      <td>125222.000000</td>\n",
       "      <td>10792.000000</td>\n",
       "    </tr>\n",
       "    <tr>\n",
       "      <th>75%</th>\n",
       "      <td>774189.000000</td>\n",
       "      <td>2021.000000</td>\n",
       "      <td>2022.000000</td>\n",
       "      <td>3.000000</td>\n",
       "      <td>162596.000000</td>\n",
       "      <td>18154.000000</td>\n",
       "    </tr>\n",
       "    <tr>\n",
       "      <th>max</th>\n",
       "      <td>999997.000000</td>\n",
       "      <td>2022.000000</td>\n",
       "      <td>2023.000000</td>\n",
       "      <td>4.000000</td>\n",
       "      <td>200000.000000</td>\n",
       "      <td>39865.000000</td>\n",
       "    </tr>\n",
       "  </tbody>\n",
       "</table>\n",
       "</div>"
      ],
      "text/plain": [
       "          Student ID  Year of Admission  Expected Year of Graduation  \\\n",
       "count  200015.000000      200015.000000                200015.000000   \n",
       "mean   549373.714881        2018.997670                  2019.995160   \n",
       "std    259362.415174           2.002377                     1.997768   \n",
       "min    100001.000000        2016.000000                  2017.000000   \n",
       "25%    325315.000000        2017.000000                  2018.000000   \n",
       "50%    548863.000000        2019.000000                  2020.000000   \n",
       "75%    774189.000000        2021.000000                  2022.000000   \n",
       "max    999997.000000        2022.000000                  2023.000000   \n",
       "\n",
       "       Current Semester           Fees  Discount on Fees  \n",
       "count     200015.000000  200015.000000     200015.000000  \n",
       "mean           2.499003  125092.093953      12484.212314  \n",
       "std            1.117806   43288.390595       8788.315935  \n",
       "min            1.000000   50000.000000          0.000000  \n",
       "25%            1.000000   87639.000000       5383.000000  \n",
       "50%            2.000000  125222.000000      10792.000000  \n",
       "75%            3.000000  162596.000000      18154.000000  \n",
       "max            4.000000  200000.000000      39865.000000  "
      ]
     },
     "execution_count": 9,
     "metadata": {},
     "output_type": "execute_result"
    }
   ],
   "source": [
    "# central tendency statistics\n",
    "df.describe()"
   ]
  },
  {
   "cell_type": "code",
   "execution_count": 12,
   "metadata": {},
   "outputs": [
    {
     "data": {
      "text/plain": [
       "Student ID                      int64\n",
       "Student Name                   object\n",
       "Date of Birth                  object\n",
       "Field of Study                 object\n",
       "Year of Admission               int64\n",
       "Expected Year of Graduation     int64\n",
       "Current Semester                int64\n",
       "Specialization                 object\n",
       "Fees                            int64\n",
       "Discount on Fees                int64\n",
       "dtype: object"
      ]
     },
     "execution_count": 12,
     "metadata": {},
     "output_type": "execute_result"
    }
   ],
   "source": [
    "# column types\n",
    "df.dtypes"
   ]
  },
  {
   "cell_type": "code",
   "execution_count": 14,
   "metadata": {},
   "outputs": [
    {
     "name": "stdout",
     "output_type": "stream",
     "text": [
      "<class 'pandas.core.frame.DataFrame'>\n",
      "RangeIndex: 200015 entries, 0 to 200014\n",
      "Data columns (total 10 columns):\n",
      " #   Column                       Non-Null Count   Dtype \n",
      "---  ------                       --------------   ----- \n",
      " 0   Student ID                   200015 non-null  int64 \n",
      " 1   Student Name                 200007 non-null  object\n",
      " 2   Date of Birth                200015 non-null  object\n",
      " 3   Field of Study               200015 non-null  object\n",
      " 4   Year of Admission            200015 non-null  int64 \n",
      " 5   Expected Year of Graduation  200015 non-null  int64 \n",
      " 6   Current Semester             200015 non-null  int64 \n",
      " 7   Specialization               200015 non-null  object\n",
      " 8   Fees                         200015 non-null  int64 \n",
      " 9   Discount on Fees             200015 non-null  int64 \n",
      "dtypes: int64(6), object(4)\n",
      "memory usage: 15.3+ MB\n"
     ]
    }
   ],
   "source": [
    "# information\n",
    "df.info()"
   ]
  }
 ],
 "metadata": {
  "kernelspec": {
   "display_name": "base",
   "language": "python",
   "name": "python3"
  },
  "language_info": {
   "codemirror_mode": {
    "name": "ipython",
    "version": 3
   },
   "file_extension": ".py",
   "mimetype": "text/x-python",
   "name": "python",
   "nbconvert_exporter": "python",
   "pygments_lexer": "ipython3",
   "version": "3.11.4"
  },
  "orig_nbformat": 4
 },
 "nbformat": 4,
 "nbformat_minor": 2
}
